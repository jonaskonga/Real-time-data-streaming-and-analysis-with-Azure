{
 "cells": [
  {
   "cell_type": "code",
   "execution_count": 71,
   "id": "3adc9ad8-eb43-44e3-86e6-795ef2495aed",
   "metadata": {},
   "outputs": [],
   "source": [
    "from azure.eventhub import EventData\n",
    "from azure.eventhub.aio import EventHubProducerClient\n",
    "\n",
    "from open_sky import retrieve_data\n",
    "from datetime import datetime\n",
    "import time\n",
    "import asyncio\n",
    "import json\n",
    "import sys\n",
    "import argparse\n",
    "import urllib3\n",
    "import certifi\n",
    "# Désactiver les avertissements de sécurité (non recommandé pour la production)\n",
    "urllib3.disable_warnings(urllib3.exceptions.InsecureRequestWarning)\n",
    "\n",
    "\n"
   ]
  },
  {
   "cell_type": "code",
   "execution_count": 72,
   "id": "b89d0483-b43a-444e-845b-829ea5b4b3ba",
   "metadata": {},
   "outputs": [],
   "source": [
    "#EVENTHUB Should be the key of the EVENT RESSOURCE (Connexion with the Event Hub ressource)\n",
    "EVENT_HUB_CONNECTION_STR = \"Endpoint=sb://event-hub-data.servicebus.windows.net/;SharedAccessKeyName=RootManageSharedAccessKey;SharedAccessKey=R5vOwKq1r2TTFx8sVtjvBuUbxXxrVATnP+AEhJRky68=\"\n",
    "EVENT_HUB_NAME = \"opensky\" #name of hub "
   ]
  },
  {
   "cell_type": "code",
   "execution_count": 88,
   "id": "c75d5326-5373-4c29-a089-6847915df4f2",
   "metadata": {},
   "outputs": [],
   "source": [
    "# asynchrone function for communication with cloud service\n",
    "async def send_data(waiting_time):\n",
    "    #create a producer to send message to the event hub\n",
    "    #specify a connection string to your event hubs namespace and\n",
    "    #the event hub name\n",
    "    producer = EventHubProducerClient.from_connection_string(\n",
    "        conn_str=EVENT_HUB_CONNECTION_STR,eventhub_name=EVENT_HUB_NAME\n",
    "    )\n",
    "    async with producer:\n",
    "        start = time.time()\n",
    "        # Add events to the batch.\n",
    "        while time.time() <= start + waiting_time * 60:\n",
    "             #create a batch\n",
    "            event_data_batch = await producer.create_batch()\n",
    "\n",
    "            #for element in retrieve_data():\n",
    "            data = retrieve_data()\n",
    "            time_request = data[1]\n",
    "            if len(data[0]) > 0 :\n",
    "                try:\n",
    "                    for element in data[0]:\n",
    "                        element[\"time\"] = time_request\n",
    "                        #print(element)\n",
    "                        event_data_batch.add(EventData(json.dumps(element).replace('None', ''))) #Format de données en JSON\n",
    "                    #send the batch of events to the event hub.\n",
    "                    await producer.send_batch(event_data_batch)\n",
    "                    #print(f\"batch sent for time {time}\\n{dash}\".format(time = time_request, dash = (\"*\"*40)))\n",
    "                    print(f\"Batch sent for time {time_request} \\n {'*'*40}\")\n",
    "                except:\n",
    "                    print(\"Error while sending data\")\n",
    "            await asyncio.sleep(waiting_time * 60 )\n",
    "\n",
    "\n",
    "def run(duration, frequence):\n",
    "    start_time = time.time()\n",
    "    while time.time() < start_time + 60 * duration:\n",
    "        asyncio.run(send_data(frequence))\n",
    "\n",
    "\n",
    "run(float(sys.argv[1]),float(sys.argv[2])) # l'envoie toutes les 60secondes\n",
    "\n",
    "\n"
   ]
  },
  {
   "cell_type": "code",
   "execution_count": null,
   "id": "5bd6b022-c459-4cea-983b-1df55842fd9e",
   "metadata": {},
   "outputs": [],
   "source": []
  }
 ],
 "metadata": {
  "kernelspec": {
   "display_name": "Python 3 (ipykernel)",
   "language": "python",
   "name": "python3"
  },
  "language_info": {
   "codemirror_mode": {
    "name": "ipython",
    "version": 3
   },
   "file_extension": ".py",
   "mimetype": "text/x-python",
   "name": "python",
   "nbconvert_exporter": "python",
   "pygments_lexer": "ipython3",
   "version": "3.11.7"
  }
 },
 "nbformat": 4,
 "nbformat_minor": 5
}
