{
 "cells": [
  {
   "cell_type": "code",
   "execution_count": 3,
   "id": "3adc9ad8-eb43-44e3-86e6-795ef2495aed",
   "metadata": {},
   "outputs": [],
   "source": [
    "from azure.eventhub import EventData\n",
    "from azure.eventhub.aio import EventHubProducerClient\n",
    "\n",
    "from open_sky import retrieve_data\n",
    "\n",
    "from datetime import datetime\n",
    "import time\n",
    "import asyncio\n",
    "import json\n",
    "import sys"
   ]
  },
  {
   "cell_type": "code",
   "execution_count": 5,
   "id": "b89d0483-b43a-444e-845b-829ea5b4b3ba",
   "metadata": {},
   "outputs": [],
   "source": [
    "#EVENTHUB Should be the key of the EVENT RESSOURCE\n",
    "EVENT_HUB_CONNECTION_STR = \"Endpoint=sb://opensky.servicebus.windows.net/;SharedAccessKeyName=pyproducer;SharedAccessKeyName=pyconsummer\"\n",
    "EVENT_HUB_NAME = \"opensky\""
   ]
  },
  {
   "cell_type": "code",
   "execution_count": 6,
   "id": "c75d5326-5373-4c29-a089-6847915df4f2",
   "metadata": {},
   "outputs": [],
   "source": [
    "async def send_data(waiting_time):\n",
    "    #create a producer to send message to the event hub\n",
    "    #specify a connection string to your event hubs namespace and\n",
    "    #the event hub name\n",
    "    producer = EventHubProducerClient.from_connection_string(\n",
    "        conn_str=EVENT_HUB_CONNECTION_STR,eventhub_name=EVENT_HUB_NAME\n",
    "    )\n",
    "    async with producer:\n",
    "        start = time.time()\n",
    "        # Add events to the batch.\n",
    "        while time.time() <= start + waiting_time * 60:\n",
    "            #create a batch\n",
    "            event_data_batch = await producer.create_batch()"
   ]
  }
 ],
 "metadata": {
  "kernelspec": {
   "display_name": "Python 3 (ipykernel)",
   "language": "python",
   "name": "python3"
  },
  "language_info": {
   "codemirror_mode": {
    "name": "ipython",
    "version": 3
   },
   "file_extension": ".py",
   "mimetype": "text/x-python",
   "name": "python",
   "nbconvert_exporter": "python",
   "pygments_lexer": "ipython3",
   "version": "3.11.7"
  }
 },
 "nbformat": 4,
 "nbformat_minor": 5
}
